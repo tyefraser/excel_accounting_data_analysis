{
 "cells": [
  {
   "cell_type": "code",
   "execution_count": 169,
   "metadata": {},
   "outputs": [
    {
     "name": "stdout",
     "output_type": "stream",
     "text": [
      "The autoreload extension is already loaded. To reload it, use:\n",
      "  %reload_ext autoreload\n"
     ]
    }
   ],
   "source": [
    "%load_ext autoreload\n",
    "%autoreload 2\n",
    "\n",
    "%config InteractiveShell.ast_node_interactivity='all'\n",
    "%config InteractiveShell.ast_node_interactivity='all'\n"
   ]
  },
  {
   "cell_type": "markdown",
   "metadata": {},
   "source": [
    "# Identify unique accounts in list\n",
    "This script will determine the complete list of unique account names from the lists provided in each Excel sheet.\n",
    "\n",
    "Assumptions:\n",
    "* There are no duplicate account names\n",
    "* The accounts are in the correct order, with no instances where accounts are displayed in a different order.\n",
    "\n",
    "Potential issues\n",
    "There can be instances where the order determined is not correct, for example, if  the following lists are provided:\n",
    "* 1:\tA\tB\tD\tG\t\t\n",
    "* 2:\tA\tB\tC\tE\tF\t\n",
    "* 3:\tA\tB\tC\tE\tF\tG\n",
    "Since the first list is taken as the base and D doesnt apprear in any other list, D will come after B, but really it should be C then D.\n",
    "This is a limitation of the information available.\n",
    "\n",
    "List update\n",
    "If you already have the updated list and you want to run a new list into it, it is best to start from scratch again. This is due to the above mentioned issue and the potential for hte order to be incorrect in the list determined. (A new function could be developed with the )\n"
   ]
  },
  {
   "cell_type": "markdown",
   "metadata": {},
   "source": [
    "# Setup\n",
    "Provide the file to use.\n",
    "\n",
    "Conditions for the file:\n",
    "* one sheet per account listing\n",
    "* the account should be listed in the first column\n",
    "* there needs to be now empty rows between any accounts or the heading"
   ]
  },
  {
   "cell_type": "code",
   "execution_count": 173,
   "metadata": {},
   "outputs": [],
   "source": [
    "file_name = \"account_lists_single_tst.xlsx\""
   ]
  },
  {
   "cell_type": "markdown",
   "metadata": {},
   "source": [
    "# Run Complete Script\n",
    "Runs all checks and produces all outputs in one go."
   ]
  },
  {
   "cell_type": "code",
   "execution_count": 215,
   "metadata": {},
   "outputs": [
    {
     "name": "stdout",
     "output_type": "stream",
     "text": [
      "2024-02-02 21:27:51,832 - INFO - Main file running\n"
     ]
    },
    {
     "data": {
      "text/plain": [
       "<pandas.io.excel._base.ExcelFile at 0x1e11e129b90>"
      ]
     },
     "execution_count": 215,
     "metadata": {},
     "output_type": "execute_result"
    }
   ],
   "source": [
    "from account_list_generator import main\n",
    "\n",
    "main(file_name = file_name)"
   ]
  },
  {
   "cell_type": "markdown",
   "metadata": {},
   "source": [
    "# Run Script step by step\n",
    "This should follow all required steps from the model, but allows you to execute it step by step."
   ]
  },
  {
   "cell_type": "code",
   "execution_count": 358,
   "metadata": {},
   "outputs": [],
   "source": [
    "import pandas as pd\n",
    "import pandas as pd\n",
    "import os\n",
    "import logging\n",
    "import logging.config\n",
    "import yaml\n",
    "\n",
    "# from account_list_generator import check_file_extension\n",
    "from account_list_generator import setup_logging\n",
    "from account_list_generator import assert_file_extension\n",
    "from account_list_generator import read_sheets_as_df\n",
    "from account_list_generator import basic_checks_acc_gen\n",
    "from account_list_generator import get_list_of_unique_accounts\n",
    "from account_list_generator import generate_check_account_order_dict\n",
    "from account_list_generator import complete_account_order_checker\n",
    "from account_list_generator import correctly_ordered_list"
   ]
  },
  {
   "cell_type": "code",
   "execution_count": 279,
   "metadata": {},
   "outputs": [
    {
     "name": "stdout",
     "output_type": "stream",
     "text": [
      "2024-02-02 22:30:11,897 - INFO - Logging initiated.\n"
     ]
    }
   ],
   "source": [
    "# Set up logging using the configuration file\n",
    "setup_logging()\n",
    "\n",
    "# Create a logger variable\n",
    "logger = logging.getLogger(__name__)\n",
    "logger.info('Logging initiated.')"
   ]
  },
  {
   "cell_type": "code",
   "execution_count": 280,
   "metadata": {},
   "outputs": [
    {
     "data": {
      "text/plain": [
       "True"
      ]
     },
     "execution_count": 280,
     "metadata": {},
     "output_type": "execute_result"
    }
   ],
   "source": [
    "# Check file extension is correct\n",
    "assert_file_extension(file_name, expected_extension='.xlsx')"
   ]
  },
  {
   "cell_type": "code",
   "execution_count": 281,
   "metadata": {},
   "outputs": [],
   "source": [
    "# Read the Excel file\n",
    "xls = pd.ExcelFile(file_name)"
   ]
  },
  {
   "cell_type": "code",
   "execution_count": 282,
   "metadata": {},
   "outputs": [
    {
     "data": {
      "text/plain": [
       "{'Sheet1':   list_1\n",
       " 0      A\n",
       " 1      B\n",
       " 2      D\n",
       " 3      G,\n",
       " 'Sheet2':   list_2\n",
       " 0      A\n",
       " 1      B\n",
       " 2      C\n",
       " 3      E\n",
       " 4      F,\n",
       " 'Sheet3':   list_3\n",
       " 0      A\n",
       " 1      B\n",
       " 2      C\n",
       " 3      E\n",
       " 4      F\n",
       " 5      G}"
      ]
     },
     "execution_count": 282,
     "metadata": {},
     "output_type": "execute_result"
    }
   ],
   "source": [
    "# Read in sheets as dfs\n",
    "account_list_dfs_dict = read_sheets_as_df(xls)\n",
    "account_list_dfs_dict"
   ]
  },
  {
   "cell_type": "code",
   "execution_count": 283,
   "metadata": {},
   "outputs": [
    {
     "data": {
      "text/plain": [
       "True"
      ]
     },
     "execution_count": 283,
     "metadata": {},
     "output_type": "execute_result"
    }
   ],
   "source": [
    "basic_checks_acc_gen(account_list_dfs_dict=account_list_dfs_dict)"
   ]
  },
  {
   "cell_type": "code",
   "execution_count": 294,
   "metadata": {},
   "outputs": [],
   "source": [
    "# Get a list of unique accounts from all lists\n",
    "account_list_dict, unique_accounts_list=get_list_of_unique_accounts(account_list_dfs_dict)"
   ]
  },
  {
   "cell_type": "code",
   "execution_count": 296,
   "metadata": {},
   "outputs": [
    {
     "name": "stdout",
     "output_type": "stream",
     "text": [
      "{'Sheet1': ['A', 'B', 'D', 'G'], 'Sheet2': ['A', 'B', 'C', 'E', 'F'], 'Sheet3': ['A', 'B', 'C', 'E', 'F', 'G']}\n"
     ]
    }
   ],
   "source": [
    "check_account_order_dict=generate_check_account_order_dict(account_list_dict, unique_accounts_list)"
   ]
  },
  {
   "cell_type": "code",
   "execution_count": 300,
   "metadata": {},
   "outputs": [],
   "source": [
    "# Check all account lists are in the expected order\n",
    "assert complete_account_order_checker(\n",
    "        check_account_order_dict,\n",
    "        account_list_dict,\n",
    "), 'Some accounts are not in the correctr order, please review'\n",
    "\n",
    "# At this point you have a list of acount lists\n",
    "# These account lists are all in the correct order"
   ]
  },
  {
   "cell_type": "code",
   "execution_count": 359,
   "metadata": {},
   "outputs": [
    {
     "data": {
      "text/plain": [
       "['A', 'B', 'C', 'D', 'E', 'F', 'G']"
      ]
     },
     "execution_count": 359,
     "metadata": {},
     "output_type": "execute_result"
    }
   ],
   "source": [
    "ordered_account_list = correctly_ordered_list(check_account_order_dict)\n",
    "ordered_account_list"
   ]
  },
  {
   "cell_type": "code",
   "execution_count": 360,
   "metadata": {},
   "outputs": [
    {
     "name": "stdout",
     "output_type": "stream",
     "text": [
      "2024-02-03 00:01:39,846 - INFO - Main file running\n"
     ]
    },
    {
     "data": {
      "text/plain": [
       "['A', 'B', 'C', 'D', 'E', 'F', 'G']"
      ]
     },
     "execution_count": 360,
     "metadata": {},
     "output_type": "execute_result"
    }
   ],
   "source": [
    "main(file_name = file_name)"
   ]
  },
  {
   "cell_type": "code",
   "execution_count": 355,
   "metadata": {},
   "outputs": [],
   "source": [
    "# Create Excel to display all account in the correct order from all lists\n",
    "\n",
    "# TO DO # TO DO # TO DO # TO DO # TO DO # TO DO # TO DO # TO DO # TO DO # TO DO # TO DO # TO DO \n",
    "# TO DO # TO DO # TO DO # TO DO # TO DO # TO DO # TO DO # TO DO # TO DO # TO DO # TO DO # TO DO \n",
    "# TO DO # TO DO # TO DO # TO DO # TO DO # TO DO # TO DO # TO DO # TO DO # TO DO # TO DO # TO DO \n",
    "\n",
    "# Create Excel and sheet in the Excel\n",
    "# Add in the base list into the Excel\n",
    "# Loop through all other lists\n",
    "    # Add the name of the list\n",
    "    # Loop through the  accounts in the current list\n",
    "        # If the account is in the base list then add it in at that same position\n",
    "# Save th wb\n",
    "\n"
   ]
  },
  {
   "cell_type": "code",
   "execution_count": 357,
   "metadata": {},
   "outputs": [
    {
     "data": {
      "text/plain": [
       "['A', 'B', 'C', 'D', 'E', 'F', 'G']"
      ]
     },
     "execution_count": 357,
     "metadata": {},
     "output_type": "execute_result"
    }
   ],
   "source": []
  },
  {
   "cell_type": "code",
   "execution_count": 57,
   "metadata": {},
   "outputs": [],
   "source": [
    "# take the first df as the base\n",
    "base_accounts = account_listings[list(account_listings.keys())[0]]\n",
    "index=0\n",
    "total_rows=len(base_accounts)\n",
    "\n",
    "# Determine the expected number of unique accounts in final list\n",
    "unique_accounts = []\n",
    "for key in account_listings.keys():\n",
    "    account_list = account_listings[key].iloc[:,0].tolist()\n",
    "    unique_accounts = unique_accounts + account_list\n",
    "unique_accounts = set(unique_accounts)\n",
    "rows_check=len(unique_accounts)\n",
    "\n",
    "new = account_listings[list(account_listings.keys())[1]]\n",
    "\n",
    "# Loop through accounts listings and ensure all accounts are in the base\n",
    "while index <= total_rows:\n",
    "    \n",
    "for account_listing in account_listings.keys():\n"
   ]
  },
  {
   "cell_type": "code",
   "execution_count": 63,
   "metadata": {},
   "outputs": [
    {
     "data": {
      "text/plain": [
       "'A'"
      ]
     },
     "execution_count": 63,
     "metadata": {},
     "output_type": "execute_result"
    }
   ],
   "source": [
    "current_account=base_accounts.iloc[:, 0][index]\n",
    "current_account\n",
    "\n",
    "for key in account_listings.keys():\n",
    "    "
   ]
  }
 ],
 "metadata": {
  "kernelspec": {
   "display_name": "Python 3",
   "language": "python",
   "name": "python3"
  },
  "language_info": {
   "codemirror_mode": {
    "name": "ipython",
    "version": 3
   },
   "file_extension": ".py",
   "mimetype": "text/x-python",
   "name": "python",
   "nbconvert_exporter": "python",
   "pygments_lexer": "ipython3",
   "version": "3.11.7"
  }
 },
 "nbformat": 4,
 "nbformat_minor": 2
}
