{
 "cells": [
  {
   "cell_type": "code",
   "execution_count": 1,
   "metadata": {},
   "outputs": [],
   "source": [
    "%load_ext autoreload\n",
    "%autoreload 2\n",
    "\n",
    "%config InteractiveShell.ast_node_interactivity='all'\n",
    "%config InteractiveShell.ast_node_interactivity='all'\n",
    "\n",
    "import sys\n",
    "sys.path.insert(1, '../')\n"
   ]
  },
  {
   "cell_type": "markdown",
   "metadata": {},
   "source": [
    "# Identify unique accounts in list\n",
    "The purpose of this script is to provide a listing of all accounts from multiiple account listings across perioods for a company, and to provide these in the correct order that they should appear.\n",
    "\n",
    "Ideally this would not be required and all accounts would be provided as a single listing from the accounting software used. However, this list isn't always made available and accounts often change from period to period. Taking all unique accounts from all the lists combined also doesnt maintain the order required. This script with therefore obtain all unique accounts and maintain them in an acceptable order of accounts.\n",
    "\n",
    "Rrequirements:\n",
    "* You will need to provide an Excel Sheet in the `data` folder where each sheet represents a separate account listing - each sheet must have the same number of columns ordered from highest grouping to lowest. [`TO DO`: Make it so multiple account levels can be provided].\n",
    "* The sheet name should refer to the applicable period for that list.\n",
    "* There must be no duplicate account groupings in any one list. e.g. [Asset, Current Asset, Financial (call option)] and [Liability, Current Liability, Financial (call option)] are fine event though the accounts are the same, but having [Asset, Current Asset, Financial (call option)] listed twice in the same listing would be an issue.\n",
    "* The accounts are in the correct order, with no instances where accounts are displayed in a different order. For example if one list is A B C, you cant have another list A C B as C and D are in different orders in either listing.\n",
    "\n",
    "Potential issues\n",
    "There can be instances where the order determined is not technically correct, for example, if  the following lists are provided:\n",
    "* 1:\tA\tB\tD\tG\t\t\n",
    "* 2:\tA\tB\tC\tE\tF\t\n",
    "* 3:\tA\tB\tC\tE\tF\tG\n",
    "Since CEF and D are never in the same list, you only know that D is before G and after B, and CEF are before G and after B. Therefore a valid result is: ['A', 'B', 'C', 'E', 'D', 'F', 'G'].\n",
    "\n",
    "If the lists were:\n",
    "* 1:\tA\tB\tD\tG\t\t\n",
    "* 2:\tX\tY\tZ\n",
    "Since there is no overlapping values, a valid result is: ['X', 'Y', 'Z', 'A', 'B', 'D', 'G', ]\n",
    "\n",
    "These issues are a limitation of the information available. Therefore it is best to provide as many lists as possible to ensure all cases are covered.\n",
    "\n",
    "If you want to run a new list you current complete list, it is best to start from scratch again and provide all lists. This is due to the above mentioned issue and the potential for ordering logic to be incorrect."
   ]
  },
  {
   "cell_type": "markdown",
   "metadata": {},
   "source": [
    "# Setup\n",
    "Provide the file to use.\n",
    "\n",
    "Conditions for the file:\n",
    "* one sheet per account listing\n",
    "* the account should be listed in the first column\n",
    "* there needs to be now empty rows between any accounts or the heading"
   ]
  },
  {
   "cell_type": "code",
   "execution_count": 6,
   "metadata": {},
   "outputs": [
    {
     "data": {
      "text/plain": [
       "'C:\\\\Users\\\\tyewf\\\\github_projects\\\\excel_accounting_data_analysis\\\\get_unique_accounts\\\\account_lists.xlsx'"
      ]
     },
     "execution_count": 6,
     "metadata": {},
     "output_type": "execute_result"
    }
   ],
   "source": [
    "from utils import absolute_path\n",
    "\n",
    "file_name = absolute_path(\"get_unique_accounts\\\\account_lists.xlsx\")\n",
    "file_name"
   ]
  },
  {
   "cell_type": "markdown",
   "metadata": {},
   "source": [
    "# Run Complete Script\n",
    "Runs all checks and produces all outputs in one go."
   ]
  },
  {
   "cell_type": "code",
   "execution_count": 8,
   "metadata": {},
   "outputs": [
    {
     "name": "stdout",
     "output_type": "stream",
     "text": [
      "2024-02-04 10:23:10,946 - DEBUG - \n",
      "\n",
      "\n",
      "Running: Main\n",
      "2024-02-04 10:23:10,946 - DEBUG - \n",
      "\n",
      "\n",
      "Running: assert_file_extension\n",
      "2024-02-04 10:23:10,950 - DEBUG - \n",
      "\n",
      "\n",
      "Running: read_sheets_as_df\n",
      "2024-02-04 10:23:10,953 - DEBUG - \n",
      "\n",
      "\n",
      "Running: basic_checks_acc_gen\n",
      "2024-02-04 10:23:10,954 - DEBUG - All checks have passes.\n",
      "2024-02-04 10:23:10,954 - DEBUG - \n",
      "\n",
      "\n",
      "Running: get_list_of_unique_accounts\n",
      "2024-02-04 10:23:10,955 - DEBUG - account_lists_dict:{'Sheet1': ['A', 'B', 'D', 'G'], 'Sheet2': ['A', 'B', 'C', 'E', 'F'], 'Sheet3': ['A', 'B', 'C', 'E', 'F', 'G']}\n",
      "2024-02-04 10:23:10,955 - DEBUG - list of all unique accounts:['B', 'G', 'F', 'D', 'A', 'E', 'C']\n",
      "2024-02-04 10:23:10,956 - DEBUG - \n",
      "\n",
      "\n",
      "Running: generate_check_account_order_dict\n",
      "2024-02-04 10:23:10,956 - DEBUG - Current account listing:Sheet1\n",
      "2024-02-04 10:23:10,956 - DEBUG - Current account listing:Sheet2\n",
      "2024-02-04 10:23:10,957 - DEBUG - Current account listing:Sheet3\n",
      "2024-02-04 10:23:10,957 - DEBUG - check_account_order_dict:{'B': {'before': ['A'], 'after': ['G', 'F', 'D', 'E', 'C']}, 'G': {'before': ['B', 'F', 'D', 'A', 'E', 'C'], 'after': []}, 'F': {'before': ['A', 'E', 'C', 'B'], 'after': ['G']}, 'D': {'before': ['A', 'B'], 'after': ['G']}, 'A': {'before': [], 'after': ['B', 'G', 'F', 'D', 'E', 'C']}, 'E': {'before': ['A', 'C', 'B'], 'after': ['G', 'F']}, 'C': {'before': ['A', 'B'], 'after': ['E', 'G', 'F']}}\n",
      "2024-02-04 10:23:10,957 - DEBUG - \n",
      "\n",
      "\n",
      "Running: complete_account_order_checker\n",
      "2024-02-04 10:23:10,958 - DEBUG - Checking list: Sheet1\n",
      "2024-02-04 10:23:10,958 - DEBUG - \n",
      "\n",
      "\n",
      "Running: account_order_checker\n",
      "2024-02-04 10:23:10,959 - DEBUG - checking:A\n",
      "2024-02-04 10:23:10,959 - DEBUG - \n",
      "Before list: []\n",
      "2024-02-04 10:23:10,959 - DEBUG - \n",
      "\n",
      "\n",
      "Running: exclusive_list_check\n",
      "2024-02-04 10:23:10,960 - DEBUG - before listing (List 1):[]\n",
      "2024-02-04 10:23:10,960 - DEBUG - Should not be in (List 2):['B', 'G', 'F', 'D', 'E', 'C']\n",
      "2024-02-04 10:23:10,960 - DEBUG - \n",
      "After list: ['B', 'D', 'G']\n",
      "2024-02-04 10:23:10,960 - DEBUG - \n",
      "\n",
      "\n",
      "Running: exclusive_list_check\n",
      "2024-02-04 10:23:10,960 - DEBUG - after listing (List 1):['B', 'D', 'G']\n",
      "2024-02-04 10:23:10,960 - DEBUG - Should not be in (List 2):[]\n",
      "2024-02-04 10:23:10,961 - DEBUG - Checking list: Sheet2\n",
      "2024-02-04 10:23:10,961 - DEBUG - \n",
      "\n",
      "\n",
      "Running: account_order_checker\n",
      "2024-02-04 10:23:10,961 - DEBUG - checking:A\n",
      "2024-02-04 10:23:10,961 - DEBUG - \n",
      "Before list: []\n",
      "2024-02-04 10:23:10,963 - DEBUG - \n",
      "\n",
      "\n",
      "Running: exclusive_list_check\n",
      "2024-02-04 10:23:10,963 - DEBUG - before listing (List 1):[]\n",
      "2024-02-04 10:23:10,963 - DEBUG - Should not be in (List 2):['B', 'G', 'F', 'D', 'E', 'C']\n",
      "2024-02-04 10:23:10,963 - DEBUG - \n",
      "After list: ['B', 'C', 'E', 'F']\n",
      "2024-02-04 10:23:10,964 - DEBUG - \n",
      "\n",
      "\n",
      "Running: exclusive_list_check\n",
      "2024-02-04 10:23:10,964 - DEBUG - after listing (List 1):['B', 'C', 'E', 'F']\n",
      "2024-02-04 10:23:10,964 - DEBUG - Should not be in (List 2):[]\n",
      "2024-02-04 10:23:10,964 - DEBUG - Checking list: Sheet3\n",
      "2024-02-04 10:23:10,965 - DEBUG - \n",
      "\n",
      "\n",
      "Running: account_order_checker\n",
      "2024-02-04 10:23:10,965 - DEBUG - checking:A\n",
      "2024-02-04 10:23:10,965 - DEBUG - \n",
      "Before list: []\n",
      "2024-02-04 10:23:10,966 - DEBUG - \n",
      "\n",
      "\n",
      "Running: exclusive_list_check\n",
      "2024-02-04 10:23:10,966 - DEBUG - before listing (List 1):[]\n",
      "2024-02-04 10:23:10,966 - DEBUG - Should not be in (List 2):['B', 'G', 'F', 'D', 'E', 'C']\n",
      "2024-02-04 10:23:10,966 - DEBUG - \n",
      "After list: ['B', 'C', 'E', 'F', 'G']\n",
      "2024-02-04 10:23:10,967 - DEBUG - \n",
      "\n",
      "\n",
      "Running: exclusive_list_check\n",
      "2024-02-04 10:23:10,967 - DEBUG - after listing (List 1):['B', 'C', 'E', 'F', 'G']\n",
      "2024-02-04 10:23:10,967 - DEBUG - Should not be in (List 2):[]\n",
      "2024-02-04 10:23:10,967 - DEBUG - \n",
      "\n",
      "\n",
      "Running: correctly_ordered_list\n",
      "2024-02-04 10:23:10,968 - DEBUG - \n",
      "Assessing:B\n",
      "2024-02-04 10:23:10,968 - DEBUG - before_list:['A']\n",
      "2024-02-04 10:23:10,968 - DEBUG - max_before_pos:None\n",
      "2024-02-04 10:23:10,968 - DEBUG - after_list:['G', 'F', 'D', 'E', 'C']\n",
      "2024-02-04 10:23:10,969 - DEBUG - min_after_pos:None\n",
      "2024-02-04 10:23:10,969 - DEBUG - Nones\n",
      "2024-02-04 10:23:10,969 - DEBUG - ['B']\n",
      "2024-02-04 10:23:10,969 - DEBUG - \n",
      "Assessing:G\n",
      "2024-02-04 10:23:10,970 - DEBUG - before_list:['B', 'F', 'D', 'A', 'E', 'C']\n",
      "2024-02-04 10:23:10,971 - DEBUG - max_before_pos:0\n",
      "2024-02-04 10:23:10,971 - DEBUG - after_list:[]\n",
      "2024-02-04 10:23:10,971 - DEBUG - min_after_pos:None\n",
      "2024-02-04 10:23:10,972 - DEBUG - No after position indicator\n",
      "2024-02-04 10:23:10,972 - DEBUG - max_before_pos:0\n",
      "2024-02-04 10:23:10,972 - DEBUG - ['B', 'G']\n",
      "2024-02-04 10:23:10,972 - DEBUG - \n",
      "Assessing:F\n",
      "2024-02-04 10:23:10,973 - DEBUG - before_list:['A', 'E', 'C', 'B']\n",
      "2024-02-04 10:23:10,973 - DEBUG - max_before_pos:0\n",
      "2024-02-04 10:23:10,973 - DEBUG - after_list:['G']\n",
      "2024-02-04 10:23:10,974 - DEBUG - min_after_pos:1\n",
      "2024-02-04 10:23:10,974 - DEBUG - No after position indicator\n",
      "2024-02-04 10:23:10,974 - DEBUG - max_before_pos:0\n",
      "2024-02-04 10:23:10,976 - DEBUG - ['B', 'F', 'G']\n",
      "2024-02-04 10:23:10,976 - DEBUG - \n",
      "Assessing:D\n",
      "2024-02-04 10:23:10,977 - DEBUG - before_list:['A', 'B']\n",
      "2024-02-04 10:23:10,977 - DEBUG - max_before_pos:0\n",
      "2024-02-04 10:23:10,977 - DEBUG - after_list:['G']\n",
      "2024-02-04 10:23:10,978 - DEBUG - min_after_pos:2\n",
      "2024-02-04 10:23:10,978 - DEBUG - No after position indicator\n",
      "2024-02-04 10:23:10,978 - DEBUG - max_before_pos:0\n",
      "2024-02-04 10:23:10,978 - DEBUG - ['B', 'D', 'F', 'G']\n",
      "2024-02-04 10:23:10,978 - DEBUG - \n",
      "Assessing:A\n",
      "2024-02-04 10:23:10,979 - DEBUG - before_list:[]\n",
      "2024-02-04 10:23:10,979 - DEBUG - max_before_pos:None\n",
      "2024-02-04 10:23:10,979 - DEBUG - after_list:['B', 'G', 'F', 'D', 'E', 'C']\n",
      "2024-02-04 10:23:10,980 - DEBUG - min_after_pos:0\n",
      "2024-02-04 10:23:10,980 - DEBUG - min_after_pos:0\n",
      "2024-02-04 10:23:10,981 - DEBUG - ['A', 'B', 'D', 'F', 'G']\n",
      "2024-02-04 10:23:10,981 - DEBUG - \n",
      "Assessing:E\n",
      "2024-02-04 10:23:10,981 - DEBUG - before_list:['A', 'C', 'B']\n",
      "2024-02-04 10:23:10,982 - DEBUG - max_before_pos:1\n",
      "2024-02-04 10:23:10,982 - DEBUG - after_list:['G', 'F']\n",
      "2024-02-04 10:23:10,982 - DEBUG - min_after_pos:3\n",
      "2024-02-04 10:23:10,982 - DEBUG - No after position indicator\n",
      "2024-02-04 10:23:10,983 - DEBUG - max_before_pos:1\n",
      "2024-02-04 10:23:10,983 - DEBUG - ['A', 'B', 'E', 'D', 'F', 'G']\n",
      "2024-02-04 10:23:10,983 - DEBUG - \n",
      "Assessing:C\n",
      "2024-02-04 10:23:10,985 - DEBUG - before_list:['A', 'B']\n",
      "2024-02-04 10:23:10,985 - DEBUG - max_before_pos:1\n",
      "2024-02-04 10:23:10,985 - DEBUG - after_list:['E', 'G', 'F']\n",
      "2024-02-04 10:23:10,986 - DEBUG - min_after_pos:2\n",
      "2024-02-04 10:23:10,986 - DEBUG - No after position indicator\n",
      "2024-02-04 10:23:10,986 - DEBUG - max_before_pos:1\n",
      "2024-02-04 10:23:10,987 - DEBUG - ['A', 'B', 'C', 'E', 'D', 'F', 'G']\n",
      "2024-02-04 10:23:10,987 - DEBUG - \n",
      "\n",
      "\n",
      "Running: document_account_lists\n",
      "2024-02-04 10:23:10,987 - DEBUG - excel_file_name:Ordered_Accounts_2024_02_04_at_10_23AM_.xlsx\n",
      "2024-02-04 10:23:10,988 - DEBUG - excel_file_path:C:\\Users\\tyewf\\github_projects\\excel_accounting_data_analysis\\results/Ordered_Accounts_2024_02_04_at_10_23AM_.xlsx\n",
      "2024-02-04 10:23:10,989 - INFO - Excel saved as: Ordered_Accounts_2024_02_04_at_10_23AM_.xlsx\n"
     ]
    },
    {
     "data": {
      "text/plain": [
       "['A', 'B', 'C', 'E', 'D', 'F', 'G']"
      ]
     },
     "execution_count": 8,
     "metadata": {},
     "output_type": "execute_result"
    }
   ],
   "source": [
    "from account_list_generator import main\n",
    "\n",
    "main(file_name = file_name)"
   ]
  },
  {
   "cell_type": "markdown",
   "metadata": {},
   "source": [
    "# Run Script step by step\n",
    "This should follow all required steps from the model, but allows you to execute it step by step."
   ]
  },
  {
   "cell_type": "code",
   "execution_count": 24,
   "metadata": {},
   "outputs": [
    {
     "name": "stderr",
     "output_type": "stream",
     "text": [
      "[autoreload of utils failed: Traceback (most recent call last):\n",
      "  File \"C:\\Users\\tyewf\\AppData\\Local\\Packages\\PythonSoftwareFoundation.Python.3.11_qbz5n2kfra8p0\\LocalCache\\local-packages\\Python311\\site-packages\\IPython\\extensions\\autoreload.py\", line 276, in check\n",
      "    superreload(m, reload, self.old_objects)\n",
      "  File \"C:\\Users\\tyewf\\AppData\\Local\\Packages\\PythonSoftwareFoundation.Python.3.11_qbz5n2kfra8p0\\LocalCache\\local-packages\\Python311\\site-packages\\IPython\\extensions\\autoreload.py\", line 475, in superreload\n",
      "    module = reload(module)\n",
      "             ^^^^^^^^^^^^^^\n",
      "  File \"C:\\Program Files\\WindowsApps\\PythonSoftwareFoundation.Python.3.11_3.11.2032.0_x64__qbz5n2kfra8p0\\Lib\\importlib\\__init__.py\", line 169, in reload\n",
      "    _bootstrap._exec(spec, module)\n",
      "  File \"<frozen importlib._bootstrap>\", line 621, in _exec\n",
      "  File \"<frozen importlib._bootstrap_external>\", line 940, in exec_module\n",
      "  File \"<frozen importlib._bootstrap>\", line 241, in _call_with_frames_removed\n",
      "  File \"c:\\Users\\tyewf\\github_projects\\excel_accounting_data_analysis\\get_unique_accounts\\..\\utils.py\", line 26, in <module>\n",
      "    setup_logging()\n",
      "  File \"c:\\Users\\tyewf\\github_projects\\excel_accounting_data_analysis\\get_unique_accounts\\..\\utils.py\", line 11, in setup_logging\n",
      "    path = absolute_path(dir=default_path)\n",
      "           ^^^^^^^^^^^^^\n",
      "NameError: name 'absolute_path' is not defined\n",
      "]\n"
     ]
    }
   ],
   "source": [
    "import pandas as pd\n",
    "import os\n",
    "import logging\n",
    "import logging.config\n",
    "from datetime import datetime\n",
    "from openpyxl import Workbook\n",
    "from contextlib import contextmanager\n",
    "\n",
    "# from utils import absolute_path\n",
    "# from utils import setup_logging\n",
    "# from utils import assert_file_extension\n",
    "# \n",
    "# from account_list_generator import read_sheets_as_df\n",
    "# from account_list_generator import basic_checks_acc_gen\n",
    "# from account_list_generator import get_list_of_unique_accounts\n",
    "# from account_list_generator import generate_check_account_order_dict\n",
    "# from account_list_generator import complete_account_order_checker\n",
    "# from account_list_generator import correctly_ordered_list\n",
    "# from account_list_generator import document_account_lists"
   ]
  },
  {
   "cell_type": "code",
   "execution_count": 7,
   "metadata": {},
   "outputs": [
    {
     "name": "stdout",
     "output_type": "stream",
     "text": [
      "2024-02-04 09:25:10,895 - INFO - Running yaml logger\n",
      "2024-02-04 09:25:10,897 - INFO - Logging initiated.\n"
     ]
    }
   ],
   "source": [
    "# Create a logger variable\n",
    "logger = logging.getLogger(__name__)\n",
    "logger.info('Logging initiated.')"
   ]
  },
  {
   "cell_type": "code",
   "execution_count": 16,
   "metadata": {},
   "outputs": [
    {
     "ename": "NameError",
     "evalue": "name 'assert_file_extension' is not defined",
     "output_type": "error",
     "traceback": [
      "\u001b[1;31m---------------------------------------------------------------------------\u001b[0m",
      "\u001b[1;31mNameError\u001b[0m                                 Traceback (most recent call last)",
      "Cell \u001b[1;32mIn[16], line 2\u001b[0m\n\u001b[0;32m      1\u001b[0m \u001b[38;5;66;03m# Check file extension is correct\u001b[39;00m\n\u001b[1;32m----> 2\u001b[0m \u001b[43massert_file_extension\u001b[49m(file_name, expected_extension\u001b[38;5;241m=\u001b[39m\u001b[38;5;124m'\u001b[39m\u001b[38;5;124m.xlsx\u001b[39m\u001b[38;5;124m'\u001b[39m)\n",
      "\u001b[1;31mNameError\u001b[0m: name 'assert_file_extension' is not defined"
     ]
    }
   ],
   "source": [
    "# Check file extension is correct\n",
    "assert_file_extension(file_name, expected_extension='.xlsx')"
   ]
  },
  {
   "cell_type": "code",
   "execution_count": 9,
   "metadata": {},
   "outputs": [],
   "source": [
    "# Read the Excel file\n",
    "xls = pd.ExcelFile(file_name)"
   ]
  },
  {
   "cell_type": "code",
   "execution_count": 10,
   "metadata": {},
   "outputs": [
    {
     "name": "stdout",
     "output_type": "stream",
     "text": [
      "2024-02-04 09:25:14,348 - DEBUG - \n",
      "\n",
      "\n",
      "Running: read_sheets_as_df\n"
     ]
    },
    {
     "data": {
      "text/plain": [
       "{'Sheet1':   list_1\n",
       " 0      A\n",
       " 1      B\n",
       " 2      D\n",
       " 3      G,\n",
       " 'Sheet2':   list_2\n",
       " 0      A\n",
       " 1      B\n",
       " 2      C\n",
       " 3      E\n",
       " 4      F,\n",
       " 'Sheet3':   list_3\n",
       " 0      A\n",
       " 1      B\n",
       " 2      C\n",
       " 3      E\n",
       " 4      F\n",
       " 5      G}"
      ]
     },
     "execution_count": 10,
     "metadata": {},
     "output_type": "execute_result"
    }
   ],
   "source": [
    "# Read in sheets as dfs\n",
    "account_list_dfs_dict = read_sheets_as_df(xls)\n",
    "account_list_dfs_dict"
   ]
  },
  {
   "cell_type": "code",
   "execution_count": 11,
   "metadata": {},
   "outputs": [
    {
     "name": "stdout",
     "output_type": "stream",
     "text": [
      "2024-02-04 09:25:16,685 - DEBUG - \n",
      "\n",
      "\n",
      "Running: basic_checks_acc_gen\n",
      "2024-02-04 09:25:16,685 - DEBUG - All checks have passes.\n"
     ]
    },
    {
     "data": {
      "text/plain": [
       "True"
      ]
     },
     "execution_count": 11,
     "metadata": {},
     "output_type": "execute_result"
    }
   ],
   "source": [
    "basic_checks_acc_gen(account_list_dfs_dict=account_list_dfs_dict)"
   ]
  },
  {
   "cell_type": "code",
   "execution_count": 12,
   "metadata": {},
   "outputs": [
    {
     "name": "stdout",
     "output_type": "stream",
     "text": [
      "2024-02-04 09:25:17,715 - DEBUG - \n",
      "\n",
      "\n",
      "Running: get_list_of_unique_accounts\n",
      "2024-02-04 09:25:17,716 - DEBUG - account_lists_dict:{'Sheet1': ['A', 'B', 'D', 'G'], 'Sheet2': ['A', 'B', 'C', 'E', 'F'], 'Sheet3': ['A', 'B', 'C', 'E', 'F', 'G']}\n",
      "2024-02-04 09:25:17,717 - DEBUG - list of all unique accounts:['C', 'G', 'F', 'E', 'A', 'B', 'D']\n"
     ]
    }
   ],
   "source": [
    "# Get a list of unique accounts from all lists\n",
    "account_lists_dict, unique_accounts_list=get_list_of_unique_accounts(account_list_dfs_dict)"
   ]
  },
  {
   "cell_type": "code",
   "execution_count": 13,
   "metadata": {},
   "outputs": [
    {
     "name": "stdout",
     "output_type": "stream",
     "text": [
      "2024-02-04 09:25:18,941 - DEBUG - \n",
      "\n",
      "\n",
      "Running: generate_check_account_order_dict\n",
      "2024-02-04 09:25:18,941 - DEBUG - Current account listing:Sheet1\n",
      "2024-02-04 09:25:18,942 - DEBUG - Current account listing:Sheet2\n",
      "2024-02-04 09:25:18,942 - DEBUG - Current account listing:Sheet3\n",
      "2024-02-04 09:25:18,942 - DEBUG - check_account_order_dict:{'C': {'before': ['A', 'B'], 'after': ['G', 'E', 'F']}, 'G': {'before': ['C', 'F', 'E', 'A', 'B', 'D'], 'after': []}, 'F': {'before': ['C', 'A', 'B', 'E'], 'after': ['G']}, 'E': {'before': ['C', 'A', 'B'], 'after': ['G', 'F']}, 'A': {'before': [], 'after': ['C', 'G', 'F', 'E', 'B', 'D']}, 'B': {'before': ['A'], 'after': ['C', 'G', 'F', 'E', 'D']}, 'D': {'before': ['A', 'B'], 'after': ['G']}}\n"
     ]
    }
   ],
   "source": [
    "check_account_order_dict=generate_check_account_order_dict(account_lists_dict, unique_accounts_list)"
   ]
  },
  {
   "cell_type": "code",
   "execution_count": 14,
   "metadata": {},
   "outputs": [
    {
     "name": "stdout",
     "output_type": "stream",
     "text": [
      "2024-02-04 09:25:20,156 - DEBUG - \n",
      "\n",
      "\n",
      "Running: complete_account_order_checker\n",
      "2024-02-04 09:25:20,156 - DEBUG - Checking list: Sheet1\n",
      "2024-02-04 09:25:20,157 - DEBUG - \n",
      "\n",
      "\n",
      "Running: account_order_checker\n",
      "2024-02-04 09:25:20,157 - DEBUG - checking:A\n",
      "2024-02-04 09:25:20,157 - DEBUG - \n",
      "Before list: []\n",
      "2024-02-04 09:25:20,157 - DEBUG - \n",
      "\n",
      "\n",
      "Running: exclusive_list_check\n",
      "2024-02-04 09:25:20,158 - DEBUG - before listing (List 1):[]\n",
      "2024-02-04 09:25:20,158 - DEBUG - Should not be in (List 2):['C', 'G', 'F', 'E', 'B', 'D']\n",
      "2024-02-04 09:25:20,159 - DEBUG - \n",
      "After list: ['B', 'D', 'G']\n",
      "2024-02-04 09:25:20,159 - DEBUG - \n",
      "\n",
      "\n",
      "Running: exclusive_list_check\n",
      "2024-02-04 09:25:20,159 - DEBUG - after listing (List 1):['B', 'D', 'G']\n",
      "2024-02-04 09:25:20,159 - DEBUG - Should not be in (List 2):[]\n",
      "2024-02-04 09:25:20,160 - DEBUG - Checking list: Sheet2\n",
      "2024-02-04 09:25:20,160 - DEBUG - \n",
      "\n",
      "\n",
      "Running: account_order_checker\n",
      "2024-02-04 09:25:20,160 - DEBUG - checking:A\n",
      "2024-02-04 09:25:20,162 - DEBUG - \n",
      "Before list: []\n",
      "2024-02-04 09:25:20,162 - DEBUG - \n",
      "\n",
      "\n",
      "Running: exclusive_list_check\n",
      "2024-02-04 09:25:20,162 - DEBUG - before listing (List 1):[]\n",
      "2024-02-04 09:25:20,163 - DEBUG - Should not be in (List 2):['C', 'G', 'F', 'E', 'B', 'D']\n",
      "2024-02-04 09:25:20,163 - DEBUG - \n",
      "After list: ['B', 'C', 'E', 'F']\n",
      "2024-02-04 09:25:20,163 - DEBUG - \n",
      "\n",
      "\n",
      "Running: exclusive_list_check\n",
      "2024-02-04 09:25:20,164 - DEBUG - after listing (List 1):['B', 'C', 'E', 'F']\n",
      "2024-02-04 09:25:20,164 - DEBUG - Should not be in (List 2):[]\n",
      "2024-02-04 09:25:20,165 - DEBUG - Checking list: Sheet3\n",
      "2024-02-04 09:25:20,165 - DEBUG - \n",
      "\n",
      "\n",
      "Running: account_order_checker\n",
      "2024-02-04 09:25:20,165 - DEBUG - checking:A\n",
      "2024-02-04 09:25:20,166 - DEBUG - \n",
      "Before list: []\n",
      "2024-02-04 09:25:20,166 - DEBUG - \n",
      "\n",
      "\n",
      "Running: exclusive_list_check\n",
      "2024-02-04 09:25:20,166 - DEBUG - before listing (List 1):[]\n",
      "2024-02-04 09:25:20,167 - DEBUG - Should not be in (List 2):['C', 'G', 'F', 'E', 'B', 'D']\n",
      "2024-02-04 09:25:20,167 - DEBUG - \n",
      "After list: ['B', 'C', 'E', 'F', 'G']\n",
      "2024-02-04 09:25:20,167 - DEBUG - \n",
      "\n",
      "\n",
      "Running: exclusive_list_check\n",
      "2024-02-04 09:25:20,168 - DEBUG - after listing (List 1):['B', 'C', 'E', 'F', 'G']\n",
      "2024-02-04 09:25:20,168 - DEBUG - Should not be in (List 2):[]\n"
     ]
    }
   ],
   "source": [
    "# Check all account lists are in the expected order\n",
    "assert complete_account_order_checker(\n",
    "        check_account_order_dict,\n",
    "        account_lists_dict,\n",
    "), 'Some accounts are not in the correctr order, please review'\n",
    "\n",
    "# At this point you have a list of acount lists\n",
    "# These account lists are all in the correct order"
   ]
  },
  {
   "cell_type": "code",
   "execution_count": 15,
   "metadata": {},
   "outputs": [
    {
     "name": "stdout",
     "output_type": "stream",
     "text": [
      "2024-02-04 09:25:22,451 - DEBUG - \n",
      "\n",
      "\n",
      "Running: correctly_ordered_list\n",
      "2024-02-04 09:25:22,451 - DEBUG - \n",
      "Assessing:C\n",
      "2024-02-04 09:25:22,452 - DEBUG - before_list:['A', 'B']\n",
      "2024-02-04 09:25:22,452 - DEBUG - max_before_pos:None\n",
      "2024-02-04 09:25:22,453 - DEBUG - after_list:['G', 'E', 'F']\n",
      "2024-02-04 09:25:22,453 - DEBUG - min_after_pos:None\n",
      "2024-02-04 09:25:22,453 - DEBUG - Nones\n",
      "2024-02-04 09:25:22,454 - DEBUG - ['C']\n",
      "2024-02-04 09:25:22,454 - DEBUG - \n",
      "Assessing:G\n",
      "2024-02-04 09:25:22,454 - DEBUG - before_list:['C', 'F', 'E', 'A', 'B', 'D']\n",
      "2024-02-04 09:25:22,455 - DEBUG - max_before_pos:0\n",
      "2024-02-04 09:25:22,455 - DEBUG - after_list:[]\n",
      "2024-02-04 09:25:22,455 - DEBUG - min_after_pos:None\n",
      "2024-02-04 09:25:22,456 - DEBUG - No after position indicator\n",
      "2024-02-04 09:25:22,456 - DEBUG - max_before_pos:0\n",
      "2024-02-04 09:25:22,456 - DEBUG - ['C', 'G']\n",
      "2024-02-04 09:25:22,457 - DEBUG - \n",
      "Assessing:F\n",
      "2024-02-04 09:25:22,457 - DEBUG - before_list:['C', 'A', 'B', 'E']\n",
      "2024-02-04 09:25:22,458 - DEBUG - max_before_pos:0\n",
      "2024-02-04 09:25:22,458 - DEBUG - after_list:['G']\n",
      "2024-02-04 09:25:22,458 - DEBUG - min_after_pos:1\n",
      "2024-02-04 09:25:22,458 - DEBUG - No after position indicator\n",
      "2024-02-04 09:25:22,460 - DEBUG - max_before_pos:0\n",
      "2024-02-04 09:25:22,460 - DEBUG - ['C', 'F', 'G']\n",
      "2024-02-04 09:25:22,460 - DEBUG - \n",
      "Assessing:E\n",
      "2024-02-04 09:25:22,461 - DEBUG - before_list:['C', 'A', 'B']\n",
      "2024-02-04 09:25:22,461 - DEBUG - max_before_pos:0\n",
      "2024-02-04 09:25:22,461 - DEBUG - after_list:['G', 'F']\n",
      "2024-02-04 09:25:22,462 - DEBUG - min_after_pos:1\n",
      "2024-02-04 09:25:22,462 - DEBUG - No after position indicator\n",
      "2024-02-04 09:25:22,462 - DEBUG - max_before_pos:0\n",
      "2024-02-04 09:25:22,463 - DEBUG - ['C', 'E', 'F', 'G']\n",
      "2024-02-04 09:25:22,463 - DEBUG - \n",
      "Assessing:A\n",
      "2024-02-04 09:25:22,463 - DEBUG - before_list:[]\n",
      "2024-02-04 09:25:22,464 - DEBUG - max_before_pos:None\n",
      "2024-02-04 09:25:22,464 - DEBUG - after_list:['C', 'G', 'F', 'E', 'B', 'D']\n",
      "2024-02-04 09:25:22,464 - DEBUG - min_after_pos:0\n",
      "2024-02-04 09:25:22,465 - DEBUG - min_after_pos:0\n",
      "2024-02-04 09:25:22,465 - DEBUG - ['A', 'C', 'E', 'F', 'G']\n",
      "2024-02-04 09:25:22,466 - DEBUG - \n",
      "Assessing:B\n",
      "2024-02-04 09:25:22,466 - DEBUG - before_list:['A']\n",
      "2024-02-04 09:25:22,466 - DEBUG - max_before_pos:0\n",
      "2024-02-04 09:25:22,467 - DEBUG - after_list:['C', 'G', 'F', 'E', 'D']\n",
      "2024-02-04 09:25:22,467 - DEBUG - min_after_pos:1\n",
      "2024-02-04 09:25:22,467 - DEBUG - No after position indicator\n",
      "2024-02-04 09:25:22,468 - DEBUG - max_before_pos:0\n",
      "2024-02-04 09:25:22,468 - DEBUG - ['A', 'B', 'C', 'E', 'F', 'G']\n",
      "2024-02-04 09:25:22,468 - DEBUG - \n",
      "Assessing:D\n",
      "2024-02-04 09:25:22,468 - DEBUG - before_list:['A', 'B']\n",
      "2024-02-04 09:25:22,469 - DEBUG - max_before_pos:1\n",
      "2024-02-04 09:25:22,469 - DEBUG - after_list:['G']\n",
      "2024-02-04 09:25:22,469 - DEBUG - min_after_pos:5\n",
      "2024-02-04 09:25:22,469 - DEBUG - No after position indicator\n",
      "2024-02-04 09:25:22,470 - DEBUG - max_before_pos:1\n",
      "2024-02-04 09:25:22,470 - DEBUG - ['A', 'B', 'D', 'C', 'E', 'F', 'G']\n"
     ]
    },
    {
     "data": {
      "text/plain": [
       "['A', 'B', 'D', 'C', 'E', 'F', 'G']"
      ]
     },
     "execution_count": 15,
     "metadata": {},
     "output_type": "execute_result"
    }
   ],
   "source": [
    "ordered_account_list = correctly_ordered_list(check_account_order_dict)\n",
    "ordered_account_list"
   ]
  },
  {
   "cell_type": "code",
   "execution_count": 16,
   "metadata": {},
   "outputs": [
    {
     "name": "stdout",
     "output_type": "stream",
     "text": [
      "2024-02-04 09:25:24,478 - DEBUG - \n",
      "\n",
      "\n",
      "Running: document_account_lists\n",
      "2024-02-04 09:25:24,479 - DEBUG - excel_file_name:Ordered_Accounts_2024_02_04_at_09_25AM_.xlsx\n",
      "2024-02-04 09:25:24,479 - DEBUG - excel_file_path:C:\\Users\\tyewf\\github_projects\\excel_accounting_data_analysis\\results/Ordered_Accounts_2024_02_04_at_09_25AM_.xlsx\n",
      "2024-02-04 09:25:24,481 - INFO - Excel saved as: Ordered_Accounts_2024_02_04_at_09_25AM_.xlsx\n"
     ]
    }
   ],
   "source": [
    "# Generate Excel with details on accounts\n",
    "document_account_lists(ordered_account_list,account_lists_dict,)"
   ]
  },
  {
   "cell_type": "code",
   "execution_count": 17,
   "metadata": {},
   "outputs": [
    {
     "name": "stdout",
     "output_type": "stream",
     "text": [
      "2024-02-04 09:25:25,633 - DEBUG - \n",
      "\n",
      "\n",
      "Running: Main\n",
      "2024-02-04 09:25:25,634 - DEBUG - \n",
      "\n",
      "\n",
      "Running: assert_file_extension\n",
      "2024-02-04 09:25:25,637 - DEBUG - \n",
      "\n",
      "\n",
      "Running: read_sheets_as_df\n",
      "2024-02-04 09:25:25,640 - DEBUG - \n",
      "\n",
      "\n",
      "Running: basic_checks_acc_gen\n",
      "2024-02-04 09:25:25,640 - DEBUG - All checks have passes.\n",
      "2024-02-04 09:25:25,640 - DEBUG - \n",
      "\n",
      "\n",
      "Running: get_list_of_unique_accounts\n",
      "2024-02-04 09:25:25,640 - DEBUG - account_lists_dict:{'Sheet1': ['A', 'B', 'D', 'G'], 'Sheet2': ['A', 'B', 'C', 'E', 'F'], 'Sheet3': ['A', 'B', 'C', 'E', 'F', 'G']}\n",
      "2024-02-04 09:25:25,642 - DEBUG - list of all unique accounts:['C', 'G', 'F', 'E', 'A', 'B', 'D']\n",
      "2024-02-04 09:25:25,642 - DEBUG - \n",
      "\n",
      "\n",
      "Running: generate_check_account_order_dict\n",
      "2024-02-04 09:25:25,642 - DEBUG - Current account listing:Sheet1\n",
      "2024-02-04 09:25:25,643 - DEBUG - Current account listing:Sheet2\n",
      "2024-02-04 09:25:25,643 - DEBUG - Current account listing:Sheet3\n",
      "2024-02-04 09:25:25,643 - DEBUG - check_account_order_dict:{'C': {'before': ['A', 'B'], 'after': ['G', 'E', 'F']}, 'G': {'before': ['C', 'F', 'E', 'A', 'B', 'D'], 'after': []}, 'F': {'before': ['C', 'A', 'B', 'E'], 'after': ['G']}, 'E': {'before': ['C', 'A', 'B'], 'after': ['G', 'F']}, 'A': {'before': [], 'after': ['C', 'G', 'F', 'E', 'B', 'D']}, 'B': {'before': ['A'], 'after': ['C', 'G', 'F', 'E', 'D']}, 'D': {'before': ['A', 'B'], 'after': ['G']}}\n",
      "2024-02-04 09:25:25,643 - DEBUG - \n",
      "\n",
      "\n",
      "Running: complete_account_order_checker\n",
      "2024-02-04 09:25:25,644 - DEBUG - Checking list: Sheet1\n",
      "2024-02-04 09:25:25,644 - DEBUG - \n",
      "\n",
      "\n",
      "Running: account_order_checker\n",
      "2024-02-04 09:25:25,645 - DEBUG - checking:A\n",
      "2024-02-04 09:25:25,645 - DEBUG - \n",
      "Before list: []\n",
      "2024-02-04 09:25:25,645 - DEBUG - \n",
      "\n",
      "\n",
      "Running: exclusive_list_check\n",
      "2024-02-04 09:25:25,645 - DEBUG - before listing (List 1):[]\n",
      "2024-02-04 09:25:25,646 - DEBUG - Should not be in (List 2):['C', 'G', 'F', 'E', 'B', 'D']\n",
      "2024-02-04 09:25:25,646 - DEBUG - \n",
      "After list: ['B', 'D', 'G']\n",
      "2024-02-04 09:25:25,646 - DEBUG - \n",
      "\n",
      "\n",
      "Running: exclusive_list_check\n",
      "2024-02-04 09:25:25,646 - DEBUG - after listing (List 1):['B', 'D', 'G']\n",
      "2024-02-04 09:25:25,647 - DEBUG - Should not be in (List 2):[]\n",
      "2024-02-04 09:25:25,647 - DEBUG - Checking list: Sheet2\n",
      "2024-02-04 09:25:25,647 - DEBUG - \n",
      "\n",
      "\n",
      "Running: account_order_checker\n",
      "2024-02-04 09:25:25,649 - DEBUG - checking:A\n",
      "2024-02-04 09:25:25,649 - DEBUG - \n",
      "Before list: []\n",
      "2024-02-04 09:25:25,650 - DEBUG - \n",
      "\n",
      "\n",
      "Running: exclusive_list_check\n",
      "2024-02-04 09:25:25,650 - DEBUG - before listing (List 1):[]\n",
      "2024-02-04 09:25:25,650 - DEBUG - Should not be in (List 2):['C', 'G', 'F', 'E', 'B', 'D']\n",
      "2024-02-04 09:25:25,651 - DEBUG - \n",
      "After list: ['B', 'C', 'E', 'F']\n",
      "2024-02-04 09:25:25,651 - DEBUG - \n",
      "\n",
      "\n",
      "Running: exclusive_list_check\n",
      "2024-02-04 09:25:25,651 - DEBUG - after listing (List 1):['B', 'C', 'E', 'F']\n",
      "2024-02-04 09:25:25,651 - DEBUG - Should not be in (List 2):[]\n",
      "2024-02-04 09:25:25,652 - DEBUG - Checking list: Sheet3\n",
      "2024-02-04 09:25:25,652 - DEBUG - \n",
      "\n",
      "\n",
      "Running: account_order_checker\n",
      "2024-02-04 09:25:25,652 - DEBUG - checking:A\n",
      "2024-02-04 09:25:25,653 - DEBUG - \n",
      "Before list: []\n",
      "2024-02-04 09:25:25,653 - DEBUG - \n",
      "\n",
      "\n",
      "Running: exclusive_list_check\n",
      "2024-02-04 09:25:25,654 - DEBUG - before listing (List 1):[]\n",
      "2024-02-04 09:25:25,654 - DEBUG - Should not be in (List 2):['C', 'G', 'F', 'E', 'B', 'D']\n",
      "2024-02-04 09:25:25,654 - DEBUG - \n",
      "After list: ['B', 'C', 'E', 'F', 'G']\n",
      "2024-02-04 09:25:25,655 - DEBUG - \n",
      "\n",
      "\n",
      "Running: exclusive_list_check\n",
      "2024-02-04 09:25:25,655 - DEBUG - after listing (List 1):['B', 'C', 'E', 'F', 'G']\n",
      "2024-02-04 09:25:25,655 - DEBUG - Should not be in (List 2):[]\n",
      "2024-02-04 09:25:25,656 - DEBUG - \n",
      "\n",
      "\n",
      "Running: correctly_ordered_list\n",
      "2024-02-04 09:25:25,656 - DEBUG - \n",
      "Assessing:C\n",
      "2024-02-04 09:25:25,657 - DEBUG - before_list:['A', 'B']\n",
      "2024-02-04 09:25:25,657 - DEBUG - max_before_pos:None\n",
      "2024-02-04 09:25:25,657 - DEBUG - after_list:['G', 'E', 'F']\n",
      "2024-02-04 09:25:25,658 - DEBUG - min_after_pos:None\n",
      "2024-02-04 09:25:25,658 - DEBUG - Nones\n",
      "2024-02-04 09:25:25,658 - DEBUG - ['C']\n",
      "2024-02-04 09:25:25,659 - DEBUG - \n",
      "Assessing:G\n",
      "2024-02-04 09:25:25,659 - DEBUG - before_list:['C', 'F', 'E', 'A', 'B', 'D']\n",
      "2024-02-04 09:25:25,659 - DEBUG - max_before_pos:0\n",
      "2024-02-04 09:25:25,660 - DEBUG - after_list:[]\n",
      "2024-02-04 09:25:25,660 - DEBUG - min_after_pos:None\n",
      "2024-02-04 09:25:25,660 - DEBUG - No after position indicator\n",
      "2024-02-04 09:25:25,661 - DEBUG - max_before_pos:0\n",
      "2024-02-04 09:25:25,661 - DEBUG - ['C', 'G']\n",
      "2024-02-04 09:25:25,661 - DEBUG - \n",
      "Assessing:F\n",
      "2024-02-04 09:25:25,662 - DEBUG - before_list:['C', 'A', 'B', 'E']\n",
      "2024-02-04 09:25:25,662 - DEBUG - max_before_pos:0\n",
      "2024-02-04 09:25:25,662 - DEBUG - after_list:['G']\n",
      "2024-02-04 09:25:25,663 - DEBUG - min_after_pos:1\n",
      "2024-02-04 09:25:25,663 - DEBUG - No after position indicator\n",
      "2024-02-04 09:25:25,663 - DEBUG - max_before_pos:0\n",
      "2024-02-04 09:25:25,665 - DEBUG - ['C', 'F', 'G']\n",
      "2024-02-04 09:25:25,665 - DEBUG - \n",
      "Assessing:E\n",
      "2024-02-04 09:25:25,666 - DEBUG - before_list:['C', 'A', 'B']\n",
      "2024-02-04 09:25:25,666 - DEBUG - max_before_pos:0\n",
      "2024-02-04 09:25:25,666 - DEBUG - after_list:['G', 'F']\n",
      "2024-02-04 09:25:25,666 - DEBUG - min_after_pos:1\n",
      "2024-02-04 09:25:25,667 - DEBUG - No after position indicator\n",
      "2024-02-04 09:25:25,667 - DEBUG - max_before_pos:0\n",
      "2024-02-04 09:25:25,667 - DEBUG - ['C', 'E', 'F', 'G']\n",
      "2024-02-04 09:25:25,668 - DEBUG - \n",
      "Assessing:A\n",
      "2024-02-04 09:25:25,668 - DEBUG - before_list:[]\n",
      "2024-02-04 09:25:25,668 - DEBUG - max_before_pos:None\n",
      "2024-02-04 09:25:25,669 - DEBUG - after_list:['C', 'G', 'F', 'E', 'B', 'D']\n",
      "2024-02-04 09:25:25,669 - DEBUG - min_after_pos:0\n",
      "2024-02-04 09:25:25,669 - DEBUG - min_after_pos:0\n",
      "2024-02-04 09:25:25,669 - DEBUG - ['A', 'C', 'E', 'F', 'G']\n",
      "2024-02-04 09:25:25,671 - DEBUG - \n",
      "Assessing:B\n",
      "2024-02-04 09:25:25,671 - DEBUG - before_list:['A']\n",
      "2024-02-04 09:25:25,671 - DEBUG - max_before_pos:0\n",
      "2024-02-04 09:25:25,672 - DEBUG - after_list:['C', 'G', 'F', 'E', 'D']\n",
      "2024-02-04 09:25:25,672 - DEBUG - min_after_pos:1\n",
      "2024-02-04 09:25:25,672 - DEBUG - No after position indicator\n",
      "2024-02-04 09:25:25,672 - DEBUG - max_before_pos:0\n",
      "2024-02-04 09:25:25,673 - DEBUG - ['A', 'B', 'C', 'E', 'F', 'G']\n",
      "2024-02-04 09:25:25,673 - DEBUG - \n",
      "Assessing:D\n",
      "2024-02-04 09:25:25,673 - DEBUG - before_list:['A', 'B']\n",
      "2024-02-04 09:25:25,673 - DEBUG - max_before_pos:1\n",
      "2024-02-04 09:25:25,674 - DEBUG - after_list:['G']\n",
      "2024-02-04 09:25:25,674 - DEBUG - min_after_pos:5\n",
      "2024-02-04 09:25:25,675 - DEBUG - No after position indicator\n",
      "2024-02-04 09:25:25,675 - DEBUG - max_before_pos:1\n",
      "2024-02-04 09:25:25,675 - DEBUG - ['A', 'B', 'D', 'C', 'E', 'F', 'G']\n",
      "2024-02-04 09:25:25,676 - DEBUG - \n",
      "\n",
      "\n",
      "Running: document_account_lists\n",
      "2024-02-04 09:25:25,676 - DEBUG - excel_file_name:Ordered_Accounts_2024_02_04_at_09_25AM_.xlsx\n",
      "2024-02-04 09:25:25,677 - DEBUG - excel_file_path:C:\\Users\\tyewf\\github_projects\\excel_accounting_data_analysis\\results/Ordered_Accounts_2024_02_04_at_09_25AM_.xlsx\n",
      "2024-02-04 09:25:25,679 - INFO - Excel saved as: Ordered_Accounts_2024_02_04_at_09_25AM_.xlsx\n"
     ]
    },
    {
     "data": {
      "text/plain": [
       "['A', 'B', 'D', 'C', 'E', 'F', 'G']"
      ]
     },
     "execution_count": 17,
     "metadata": {},
     "output_type": "execute_result"
    }
   ],
   "source": [
    "main(file_name = file_name)"
   ]
  },
  {
   "cell_type": "code",
   "execution_count": 18,
   "metadata": {},
   "outputs": [
    {
     "name": "stdout",
     "output_type": "stream",
     "text": [
      "2024-02-04 09:25:30,282 - DEBUG - \n",
      "\n",
      "\n",
      "Running: document_account_lists\n",
      "2024-02-04 09:25:30,283 - DEBUG - excel_file_name:Ordered_Accounts_2024_02_04_at_09_25AM_.xlsx\n",
      "2024-02-04 09:25:30,284 - DEBUG - excel_file_path:C:\\Users\\tyewf\\github_projects\\excel_accounting_data_analysis\\results/Ordered_Accounts_2024_02_04_at_09_25AM_.xlsx\n",
      "2024-02-04 09:25:30,285 - INFO - Excel saved as: Ordered_Accounts_2024_02_04_at_09_25AM_.xlsx\n"
     ]
    }
   ],
   "source": [
    "document_account_lists(ordered_account_list, account_lists_dict)"
   ]
  }
 ],
 "metadata": {
  "kernelspec": {
   "display_name": "Python 3",
   "language": "python",
   "name": "python3"
  },
  "language_info": {
   "codemirror_mode": {
    "name": "ipython",
    "version": 3
   },
   "file_extension": ".py",
   "mimetype": "text/x-python",
   "name": "python",
   "nbconvert_exporter": "python",
   "pygments_lexer": "ipython3",
   "version": "3.11.7"
  }
 },
 "nbformat": 4,
 "nbformat_minor": 2
}
