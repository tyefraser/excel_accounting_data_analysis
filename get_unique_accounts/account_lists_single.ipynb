{
 "cells": [
  {
   "cell_type": "code",
   "execution_count": 108,
   "metadata": {},
   "outputs": [
    {
     "name": "stdout",
     "output_type": "stream",
     "text": [
      "The autoreload extension is already loaded. To reload it, use:\n",
      "  %reload_ext autoreload\n"
     ]
    }
   ],
   "source": [
    "%load_ext autoreload\n",
    "%autoreload 2\n",
    "\n",
    "%config InteractiveShell.ast_node_interactivity='all'\n",
    "%config InteractiveShell.ast_node_interactivity='all'\n",
    "\n",
    "import sys\n",
    "sys.path.insert(1, '../')\n"
   ]
  },
  {
   "cell_type": "markdown",
   "metadata": {},
   "source": [
    "# Identify unique accounts in list\n",
    "This script will determine the complete list of unique account names from the lists provided in each Excel sheet.\n",
    "\n",
    "Assumptions:\n",
    "* There are no duplicate account names\n",
    "* The accounts are in the correct order, with no instances where accounts are displayed in a different order.\n",
    "\n",
    "Potential issues\n",
    "There can be instances where the order determined is not correct, for example, if  the following lists are provided:\n",
    "* 1:\tA\tB\tD\tG\t\t\n",
    "* 2:\tA\tB\tC\tE\tF\t\n",
    "* 3:\tA\tB\tC\tE\tF\tG\n",
    "Since the first list is taken as the base and D doesnt apprear in any other list, D will come after B, but really it should be C then D.\n",
    "This is a limitation of the information available.\n",
    "\n",
    "List update\n",
    "If you already have the updated list and you want to run a new list into it, it is best to start from scratch again. This is due to the above mentioned issue and the potential for hte order to be incorrect in the list determined. (A new function could be developed with the )\n"
   ]
  },
  {
   "cell_type": "markdown",
   "metadata": {},
   "source": [
    "# Setup\n",
    "Provide the file to use.\n",
    "\n",
    "Conditions for the file:\n",
    "* one sheet per account listing\n",
    "* the account should be listed in the first column\n",
    "* there needs to be now empty rows between any accounts or the heading"
   ]
  },
  {
   "cell_type": "code",
   "execution_count": 57,
   "metadata": {},
   "outputs": [],
   "source": [
    "file_name = \"account_lists_single_tst.xlsx\""
   ]
  },
  {
   "cell_type": "markdown",
   "metadata": {},
   "source": [
    "# Run Complete Script\n",
    "Runs all checks and produces all outputs in one go."
   ]
  },
  {
   "cell_type": "code",
   "execution_count": 102,
   "metadata": {},
   "outputs": [
    {
     "name": "stdout",
     "output_type": "stream",
     "text": [
      "2024-02-03 16:16:54,422 - INFO - Running yaml logger\n",
      "2024-02-03 16:16:54,424 - DEBUG - \n",
      "\n",
      "\n",
      "Running: Main\n",
      "2024-02-03 16:16:54,425 - DEBUG - \n",
      "\n",
      "\n",
      "Running: assert_file_extension\n",
      "2024-02-03 16:16:54,428 - DEBUG - \n",
      "\n",
      "\n",
      "Running: read_sheets_as_df\n",
      "2024-02-03 16:16:54,430 - DEBUG - \n",
      "\n",
      "\n",
      "Running: basic_checks_acc_gen\n",
      "2024-02-03 16:16:54,431 - DEBUG - All checks have passes.\n",
      "2024-02-03 16:16:54,431 - DEBUG - \n",
      "\n",
      "\n",
      "Running: get_list_of_unique_accounts\n",
      "2024-02-03 16:16:54,432 - DEBUG - account_lists_dict:{'Sheet1': ['A', 'B', 'D', 'G'], 'Sheet2': ['A', 'B', 'C', 'E', 'F'], 'Sheet3': ['A', 'B', 'C', 'E', 'F', 'G']}\n",
      "2024-02-03 16:16:54,432 - DEBUG - list of all unique accounts:['A', 'B', 'F', 'D', 'G', 'E', 'C']\n",
      "2024-02-03 16:16:54,432 - DEBUG - \n",
      "\n",
      "\n",
      "Running: generate_check_account_order_dict\n",
      "2024-02-03 16:16:54,433 - DEBUG - Current account listing:Sheet1\n",
      "2024-02-03 16:16:54,433 - DEBUG - Current account listing:Sheet2\n",
      "2024-02-03 16:16:54,433 - DEBUG - Current account listing:Sheet3\n",
      "2024-02-03 16:16:54,434 - DEBUG - check_account_order_dict:{'A': {'before': [], 'after': ['B', 'F', 'D', 'G', 'E', 'C']}, 'B': {'before': ['A'], 'after': ['F', 'D', 'G', 'E', 'C']}, 'F': {'before': ['B', 'E', 'A', 'C'], 'after': ['G']}, 'D': {'before': ['B', 'A'], 'after': ['G']}, 'G': {'before': ['A', 'B', 'F', 'D', 'E', 'C'], 'after': []}, 'E': {'before': ['B', 'A', 'C'], 'after': ['G', 'F']}, 'C': {'before': ['B', 'A'], 'after': ['G', 'E', 'F']}}\n",
      "2024-02-03 16:16:54,434 - DEBUG - \n",
      "\n",
      "\n",
      "Running: complete_account_order_checker\n",
      "2024-02-03 16:16:54,435 - DEBUG - Checking list: Sheet1\n",
      "2024-02-03 16:16:54,435 - DEBUG - \n",
      "\n",
      "\n",
      "Running: account_order_checker\n",
      "2024-02-03 16:16:54,435 - DEBUG - checking:A\n",
      "2024-02-03 16:16:54,436 - DEBUG - \n",
      "Before list: []\n",
      "2024-02-03 16:16:54,436 - DEBUG - \n",
      "\n",
      "\n",
      "Running: exclusive_list_check\n",
      "2024-02-03 16:16:54,436 - DEBUG - before listing (List 1):[]\n",
      "2024-02-03 16:16:54,437 - DEBUG - Should not be in (List 2):['B', 'F', 'D', 'G', 'E', 'C']\n",
      "2024-02-03 16:16:54,437 - DEBUG - \n",
      "After list: ['B', 'D', 'G']\n",
      "2024-02-03 16:16:54,438 - DEBUG - \n",
      "\n",
      "\n",
      "Running: exclusive_list_check\n",
      "2024-02-03 16:16:54,438 - DEBUG - after listing (List 1):['B', 'D', 'G']\n",
      "2024-02-03 16:16:54,438 - DEBUG - Should not be in (List 2):[]\n",
      "2024-02-03 16:16:54,439 - DEBUG - Checking list: Sheet2\n",
      "2024-02-03 16:16:54,439 - DEBUG - \n",
      "\n",
      "\n",
      "Running: account_order_checker\n",
      "2024-02-03 16:16:54,439 - DEBUG - checking:A\n",
      "2024-02-03 16:16:54,439 - DEBUG - \n",
      "Before list: []\n",
      "2024-02-03 16:16:54,441 - DEBUG - \n",
      "\n",
      "\n",
      "Running: exclusive_list_check\n",
      "2024-02-03 16:16:54,441 - DEBUG - before listing (List 1):[]\n",
      "2024-02-03 16:16:54,441 - DEBUG - Should not be in (List 2):['B', 'F', 'D', 'G', 'E', 'C']\n",
      "2024-02-03 16:16:54,442 - DEBUG - \n",
      "After list: ['B', 'C', 'E', 'F']\n",
      "2024-02-03 16:16:54,442 - DEBUG - \n",
      "\n",
      "\n",
      "Running: exclusive_list_check\n",
      "2024-02-03 16:16:54,442 - DEBUG - after listing (List 1):['B', 'C', 'E', 'F']\n",
      "2024-02-03 16:16:54,443 - DEBUG - Should not be in (List 2):[]\n",
      "2024-02-03 16:16:54,443 - DEBUG - Checking list: Sheet3\n",
      "2024-02-03 16:16:54,444 - DEBUG - \n",
      "\n",
      "\n",
      "Running: account_order_checker\n",
      "2024-02-03 16:16:54,444 - DEBUG - checking:A\n",
      "2024-02-03 16:16:54,444 - DEBUG - \n",
      "Before list: []\n",
      "2024-02-03 16:16:54,444 - DEBUG - \n",
      "\n",
      "\n",
      "Running: exclusive_list_check\n",
      "2024-02-03 16:16:54,445 - DEBUG - before listing (List 1):[]\n",
      "2024-02-03 16:16:54,445 - DEBUG - Should not be in (List 2):['B', 'F', 'D', 'G', 'E', 'C']\n",
      "2024-02-03 16:16:54,445 - DEBUG - \n",
      "After list: ['B', 'C', 'E', 'F', 'G']\n",
      "2024-02-03 16:16:54,445 - DEBUG - \n",
      "\n",
      "\n",
      "Running: exclusive_list_check\n",
      "2024-02-03 16:16:54,446 - DEBUG - after listing (List 1):['B', 'C', 'E', 'F', 'G']\n",
      "2024-02-03 16:16:54,446 - DEBUG - Should not be in (List 2):[]\n",
      "2024-02-03 16:16:54,447 - DEBUG - \n",
      "\n",
      "\n",
      "Running: correctly_ordered_list\n",
      "2024-02-03 16:16:54,447 - DEBUG - \n",
      "Assessing:A\n",
      "2024-02-03 16:16:54,448 - DEBUG - before_list:[]\n",
      "2024-02-03 16:16:54,448 - DEBUG - max_before_pos:None\n",
      "2024-02-03 16:16:54,448 - DEBUG - after_list:['B', 'F', 'D', 'G', 'E', 'C']\n",
      "2024-02-03 16:16:54,449 - DEBUG - min_after_pos:None\n",
      "2024-02-03 16:16:54,449 - DEBUG - Nones\n",
      "2024-02-03 16:16:54,449 - DEBUG - ['A']\n",
      "2024-02-03 16:16:54,450 - DEBUG - \n",
      "Assessing:B\n",
      "2024-02-03 16:16:54,450 - DEBUG - before_list:['A']\n",
      "2024-02-03 16:16:54,450 - DEBUG - max_before_pos:0\n",
      "2024-02-03 16:16:54,451 - DEBUG - after_list:['F', 'D', 'G', 'E', 'C']\n",
      "2024-02-03 16:16:54,451 - DEBUG - min_after_pos:None\n",
      "2024-02-03 16:16:54,451 - DEBUG - No after position indicator\n",
      "2024-02-03 16:16:54,452 - DEBUG - max_before_pos:0\n",
      "2024-02-03 16:16:54,452 - DEBUG - ['A', 'B']\n",
      "2024-02-03 16:16:54,452 - DEBUG - \n",
      "Assessing:F\n",
      "2024-02-03 16:16:54,452 - DEBUG - before_list:['B', 'E', 'A', 'C']\n",
      "2024-02-03 16:16:54,453 - DEBUG - max_before_pos:1\n",
      "2024-02-03 16:16:54,453 - DEBUG - after_list:['G']\n",
      "2024-02-03 16:16:54,453 - DEBUG - min_after_pos:None\n",
      "2024-02-03 16:16:54,454 - DEBUG - No after position indicator\n",
      "2024-02-03 16:16:54,454 - DEBUG - max_before_pos:1\n",
      "2024-02-03 16:16:54,454 - DEBUG - ['A', 'B', 'F']\n",
      "2024-02-03 16:16:54,454 - DEBUG - \n",
      "Assessing:D\n",
      "2024-02-03 16:16:54,455 - DEBUG - before_list:['B', 'A']\n",
      "2024-02-03 16:16:54,455 - DEBUG - max_before_pos:1\n",
      "2024-02-03 16:16:54,456 - DEBUG - after_list:['G']\n",
      "2024-02-03 16:16:54,456 - DEBUG - min_after_pos:None\n",
      "2024-02-03 16:16:54,456 - DEBUG - No after position indicator\n",
      "2024-02-03 16:16:54,457 - DEBUG - max_before_pos:1\n",
      "2024-02-03 16:16:54,457 - DEBUG - ['A', 'B', 'D', 'F']\n",
      "2024-02-03 16:16:54,458 - DEBUG - \n",
      "Assessing:G\n",
      "2024-02-03 16:16:54,458 - DEBUG - before_list:['A', 'B', 'F', 'D', 'E', 'C']\n",
      "2024-02-03 16:16:54,458 - DEBUG - max_before_pos:3\n",
      "2024-02-03 16:16:54,459 - DEBUG - after_list:[]\n",
      "2024-02-03 16:16:54,459 - DEBUG - min_after_pos:None\n",
      "2024-02-03 16:16:54,459 - DEBUG - No after position indicator\n",
      "2024-02-03 16:16:54,460 - DEBUG - max_before_pos:3\n",
      "2024-02-03 16:16:54,460 - DEBUG - ['A', 'B', 'D', 'F', 'G']\n",
      "2024-02-03 16:16:54,461 - DEBUG - \n",
      "Assessing:E\n",
      "2024-02-03 16:16:54,461 - DEBUG - before_list:['B', 'A', 'C']\n",
      "2024-02-03 16:16:54,461 - DEBUG - max_before_pos:1\n",
      "2024-02-03 16:16:54,461 - DEBUG - after_list:['G', 'F']\n",
      "2024-02-03 16:16:54,462 - DEBUG - min_after_pos:3\n",
      "2024-02-03 16:16:54,462 - DEBUG - No after position indicator\n",
      "2024-02-03 16:16:54,462 - DEBUG - max_before_pos:1\n",
      "2024-02-03 16:16:54,462 - DEBUG - ['A', 'B', 'E', 'D', 'F', 'G']\n",
      "2024-02-03 16:16:54,464 - DEBUG - \n",
      "Assessing:C\n",
      "2024-02-03 16:16:54,464 - DEBUG - before_list:['B', 'A']\n",
      "2024-02-03 16:16:54,465 - DEBUG - max_before_pos:1\n",
      "2024-02-03 16:16:54,465 - DEBUG - after_list:['G', 'E', 'F']\n",
      "2024-02-03 16:16:54,465 - DEBUG - min_after_pos:2\n",
      "2024-02-03 16:16:54,466 - DEBUG - No after position indicator\n",
      "2024-02-03 16:16:54,466 - DEBUG - max_before_pos:1\n",
      "2024-02-03 16:16:54,467 - DEBUG - ['A', 'B', 'C', 'E', 'D', 'F', 'G']\n",
      "2024-02-03 16:16:54,467 - DEBUG - \n",
      "\n",
      "\n",
      "Running: document_account_lists\n",
      "2024-02-03 16:16:54,472 - INFO - Excel saved as: Ordered_Accounts_2024_02_03_at_04_16PM_.xlsx\n"
     ]
    },
    {
     "data": {
      "text/plain": [
       "['A', 'B', 'C', 'E', 'D', 'F', 'G']"
      ]
     },
     "execution_count": 102,
     "metadata": {},
     "output_type": "execute_result"
    }
   ],
   "source": [
    "from account_list_generator import main\n",
    "\n",
    "main(file_name = file_name)"
   ]
  },
  {
   "cell_type": "markdown",
   "metadata": {},
   "source": [
    "# Run Script step by step\n",
    "This should follow all required steps from the model, but allows you to execute it step by step."
   ]
  },
  {
   "cell_type": "code",
   "execution_count": 105,
   "metadata": {},
   "outputs": [],
   "source": [
    "import pandas as pd\n",
    "import logging\n",
    "import logging.config\n",
    "from datetime import datetime\n",
    "from openpyxl import Workbook\n",
    "\n",
    "# from account_list_generator import check_file_extension\n",
    "from account_list_generator import setup_logging\n",
    "from account_list_generator import assert_file_extension\n",
    "from account_list_generator import read_sheets_as_df\n",
    "from account_list_generator import basic_checks_acc_gen\n",
    "from account_list_generator import get_list_of_unique_accounts\n",
    "from account_list_generator import generate_check_account_order_dict\n",
    "from account_list_generator import complete_account_order_checker\n",
    "from account_list_generator import correctly_ordered_list\n",
    "from account_list_generator import document_account_lists"
   ]
  },
  {
   "cell_type": "code",
   "execution_count": 89,
   "metadata": {},
   "outputs": [
    {
     "name": "stdout",
     "output_type": "stream",
     "text": [
      "Running yaml logger\n",
      "2024-02-03 15:30:47,499 - INFO - Logging initiated.\n"
     ]
    }
   ],
   "source": [
    "# Set up logging using the configuration file\n",
    "setup_logging()\n",
    "\n",
    "# Create a logger variable\n",
    "logger = logging.getLogger(__name__)\n",
    "logger.info('Logging initiated.')"
   ]
  },
  {
   "cell_type": "code",
   "execution_count": 90,
   "metadata": {},
   "outputs": [
    {
     "name": "stdout",
     "output_type": "stream",
     "text": [
      "2024-02-03 15:30:48,625 - DEBUG - Running: assert_file_extension\n"
     ]
    },
    {
     "data": {
      "text/plain": [
       "True"
      ]
     },
     "execution_count": 90,
     "metadata": {},
     "output_type": "execute_result"
    }
   ],
   "source": [
    "# Check file extension is correct\n",
    "assert_file_extension(file_name, expected_extension='.xlsx')"
   ]
  },
  {
   "cell_type": "code",
   "execution_count": 91,
   "metadata": {},
   "outputs": [],
   "source": [
    "# Read the Excel file\n",
    "xls = pd.ExcelFile(file_name)"
   ]
  },
  {
   "cell_type": "code",
   "execution_count": 92,
   "metadata": {},
   "outputs": [
    {
     "name": "stdout",
     "output_type": "stream",
     "text": [
      "2024-02-03 15:30:50,746 - DEBUG - Running: read_sheets_as_df\n"
     ]
    },
    {
     "data": {
      "text/plain": [
       "{'Sheet1':   list_1\n",
       " 0      A\n",
       " 1      B\n",
       " 2      D\n",
       " 3      G,\n",
       " 'Sheet2':   list_2\n",
       " 0      A\n",
       " 1      B\n",
       " 2      C\n",
       " 3      E\n",
       " 4      F,\n",
       " 'Sheet3':   list_3\n",
       " 0      A\n",
       " 1      B\n",
       " 2      C\n",
       " 3      E\n",
       " 4      F\n",
       " 5      G}"
      ]
     },
     "execution_count": 92,
     "metadata": {},
     "output_type": "execute_result"
    }
   ],
   "source": [
    "# Read in sheets as dfs\n",
    "account_list_dfs_dict = read_sheets_as_df(xls)\n",
    "account_list_dfs_dict"
   ]
  },
  {
   "cell_type": "code",
   "execution_count": 94,
   "metadata": {},
   "outputs": [
    {
     "name": "stdout",
     "output_type": "stream",
     "text": [
      "Running yaml logger\n",
      "2024-02-03 15:31:59,161 - DEBUG - Running: basic_checks_acc_gen\n",
      "2024-02-03 15:31:59,162 - DEBUG - All checks have passes.\n"
     ]
    },
    {
     "data": {
      "text/plain": [
       "True"
      ]
     },
     "execution_count": 94,
     "metadata": {},
     "output_type": "execute_result"
    }
   ],
   "source": [
    "basic_checks_acc_gen(account_list_dfs_dict=account_list_dfs_dict)"
   ]
  },
  {
   "cell_type": "code",
   "execution_count": 97,
   "metadata": {},
   "outputs": [
    {
     "name": "stdout",
     "output_type": "stream",
     "text": [
      "Running yaml logger\n",
      "2024-02-03 15:39:32,159 - DEBUG - \n",
      "Running: get_list_of_unique_accounts\n",
      "2024-02-03 15:39:32,159 - DEBUG - account_lists_dict:{'Sheet1': ['A', 'B', 'D', 'G'], 'Sheet2': ['A', 'B', 'C', 'E', 'F'], 'Sheet3': ['A', 'B', 'C', 'E', 'F', 'G']}\n",
      "2024-02-03 15:39:32,160 - DEBUG - list of all unique accounts:['A', 'B', 'F', 'D', 'G', 'E', 'C']\n"
     ]
    }
   ],
   "source": [
    "# Get a list of unique accounts from all lists\n",
    "account_lists_dict, unique_accounts_list=get_list_of_unique_accounts(account_list_dfs_dict)"
   ]
  },
  {
   "cell_type": "code",
   "execution_count": 98,
   "metadata": {},
   "outputs": [
    {
     "name": "stdout",
     "output_type": "stream",
     "text": [
      "2024-02-03 15:39:34,083 - DEBUG - \n",
      "Running: generate_check_account_order_dict\n",
      "2024-02-03 15:39:34,083 - DEBUG - Current account listing:Sheet1\n",
      "2024-02-03 15:39:34,084 - DEBUG - Current account listing:Sheet2\n",
      "2024-02-03 15:39:34,085 - DEBUG - Current account listing:Sheet3\n",
      "2024-02-03 15:39:34,085 - DEBUG - check_account_order_dict:{'A': {'before': [], 'after': ['B', 'F', 'D', 'G', 'E', 'C']}, 'B': {'before': ['A'], 'after': ['F', 'D', 'G', 'E', 'C']}, 'F': {'before': ['B', 'E', 'A', 'C'], 'after': ['G']}, 'D': {'before': ['B', 'A'], 'after': ['G']}, 'G': {'before': ['A', 'B', 'F', 'D', 'E', 'C'], 'after': []}, 'E': {'before': ['B', 'A', 'C'], 'after': ['G', 'F']}, 'C': {'before': ['B', 'A'], 'after': ['G', 'E', 'F']}}\n"
     ]
    }
   ],
   "source": [
    "check_account_order_dict=generate_check_account_order_dict(account_lists_dict, unique_accounts_list)"
   ]
  },
  {
   "cell_type": "code",
   "execution_count": 31,
   "metadata": {},
   "outputs": [],
   "source": [
    "# Check all account lists are in the expected order\n",
    "assert complete_account_order_checker(\n",
    "        check_account_order_dict,\n",
    "        account_lists_dict,\n",
    "), 'Some accounts are not in the correctr order, please review'\n",
    "\n",
    "# At this point you have a list of acount lists\n",
    "# These account lists are all in the correct order"
   ]
  },
  {
   "cell_type": "code",
   "execution_count": 32,
   "metadata": {},
   "outputs": [
    {
     "data": {
      "text/plain": [
       "['A', 'B', 'C', 'E', 'D', 'F', 'G']"
      ]
     },
     "execution_count": 32,
     "metadata": {},
     "output_type": "execute_result"
    }
   ],
   "source": [
    "ordered_account_list = correctly_ordered_list(check_account_order_dict)\n",
    "ordered_account_list"
   ]
  },
  {
   "cell_type": "code",
   "execution_count": 111,
   "metadata": {},
   "outputs": [
    {
     "name": "stdout",
     "output_type": "stream",
     "text": [
      "2024-02-03 16:24:27,242 - DEBUG - \n",
      "\n",
      "\n",
      "Running: document_account_lists\n",
      "2024-02-03 16:24:27,247 - INFO - Excel saved as: Ordered_Accounts_2024_02_03_at_04_24PM_.xlsx\n"
     ]
    }
   ],
   "source": [
    "# Generate Excel with details on accounts\n",
    "document_account_lists(ordered_account_list,account_lists_dict,)"
   ]
  },
  {
   "cell_type": "code",
   "execution_count": 55,
   "metadata": {},
   "outputs": [
    {
     "name": "stdout",
     "output_type": "stream",
     "text": [
      "2024-02-03 14:22:02,507 - INFO - Main file running\n"
     ]
    },
    {
     "data": {
      "text/plain": [
       "['A', 'B', 'C', 'E', 'D', 'F', 'G']"
      ]
     },
     "execution_count": 55,
     "metadata": {},
     "output_type": "execute_result"
    }
   ],
   "source": [
    "main(file_name = file_name)"
   ]
  }
 ],
 "metadata": {
  "kernelspec": {
   "display_name": "Python 3",
   "language": "python",
   "name": "python3"
  },
  "language_info": {
   "codemirror_mode": {
    "name": "ipython",
    "version": 3
   },
   "file_extension": ".py",
   "mimetype": "text/x-python",
   "name": "python",
   "nbconvert_exporter": "python",
   "pygments_lexer": "ipython3",
   "version": "3.11.7"
  }
 },
 "nbformat": 4,
 "nbformat_minor": 2
}
