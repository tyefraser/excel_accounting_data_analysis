{
 "cells": [
  {
   "cell_type": "code",
   "execution_count": 6,
   "metadata": {},
   "outputs": [
    {
     "name": "stdout",
     "output_type": "stream",
     "text": [
      "            Date             Account     Value\n",
      "0     2023-12-01           Bar Sales  55148.99\n",
      "1     2023-11-01           Bar Sales  47863.36\n",
      "2     2023-10-01           Bar Sales  39334.01\n",
      "3     2023-09-01           Bar Sales  38591.71\n",
      "4     2023-08-01           Bar Sales  34919.53\n",
      "...          ...                 ...       ...\n",
      "10663 2017-05-01  Income tax expense      0.00\n",
      "10664 2017-04-01  Income tax expense      0.00\n",
      "10665 2017-03-01  Income tax expense      0.00\n",
      "10666 2017-02-01  Income tax expense      0.00\n",
      "10667 2017-01-01  Income tax expense      0.00\n",
      "\n",
      "[10668 rows x 3 columns]\n"
     ]
    }
   ],
   "source": [
    "import pandas as pd\n",
    "\n",
    "# Read the Excel file into a DataFrame\n",
    "df = pd.read_excel('Combined Data - Graphs.xlsx', sheet_name='Sheet5')\n",
    "\n",
    "# Melt the DataFrame to transform it into the desired format\n",
    "melted_df = pd.melt(df, id_vars=['Date'], var_name='Account', value_name='Value')\n",
    "\n",
    "# Save the transformed DataFrame to a new Excel file\n",
    "melted_df.to_excel('narrow_data.xlsx', index=False)\n",
    "\n",
    "# Display the transformed DataFrame\n",
    "print(melted_df)\n"
   ]
  },
  {
   "cell_type": "code",
   "execution_count": 4,
   "metadata": {},
   "outputs": [
    {
     "name": "stdout",
     "output_type": "stream",
     "text": [
      "            Date             Account     Value\n",
      "0     2023-12-01           Bar Sales  55148.99\n",
      "1     2023-11-01           Bar Sales  47863.36\n",
      "2     2023-10-01           Bar Sales  39334.01\n",
      "3     2023-09-01           Bar Sales  38591.71\n",
      "4     2023-08-01           Bar Sales  34919.53\n",
      "...          ...                 ...       ...\n",
      "10663 2017-05-01  Income tax expense      0.00\n",
      "10664 2017-04-01  Income tax expense      0.00\n",
      "10665 2017-03-01  Income tax expense      0.00\n",
      "10666 2017-02-01  Income tax expense      0.00\n",
      "10667 2017-01-01  Income tax expense      0.00\n",
      "\n",
      "[10668 rows x 3 columns]\n"
     ]
    }
   ],
   "source": []
  }
 ],
 "metadata": {
  "kernelspec": {
   "display_name": "Python 3",
   "language": "python",
   "name": "python3"
  },
  "language_info": {
   "codemirror_mode": {
    "name": "ipython",
    "version": 3
   },
   "file_extension": ".py",
   "mimetype": "text/x-python",
   "name": "python",
   "nbconvert_exporter": "python",
   "pygments_lexer": "ipython3",
   "version": "3.11.7"
  }
 },
 "nbformat": 4,
 "nbformat_minor": 2
}
